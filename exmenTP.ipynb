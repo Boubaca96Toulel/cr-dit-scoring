{
  "cells": [
    {
      "attachments": {},
      "cell_type": "markdown",
      "metadata": {
        "id": "vZUTiOvq3JzF"
      },
      "source": [
        "# Cadre du projet\n",
        "pour ce projet j'ai décider de travailler sur un modèle de crédit scoring basé sur le comportement de l’emprunteur.  Le crédit scoring est une méthode qui évalue le niveau du risque associé à un dossier de crédit afin de prévoir la solvabilité du demandeur de ce crédit. ce travaille va se faire à l'aide d'un dataset d'une banque qui contient des données sur ces clients et les caractéristiques de ces clients, mon modèle permetra à la fin de classer les clients comme : Bon Payeur ou Mauvais Payeur. A cet effet, je vais utiliser deux méthodes : la Régression Logistique et le K-plus proches voisins (K-NN). Pour la validation et la comparaison de la qualité des modèles obtenus, je vais utiliser la matrice de classement ou de confusion et les autres métriques."
      ]
    },
    {
      "cell_type": "code",
      "execution_count": 1,
      "metadata": {
        "id": "kyn9knK63Bvc"
      },
      "outputs": [],
      "source": [
        "import numpy as np\n",
        "import pandas as pd\n",
        "import os\n",
        "import seaborn as sns\n",
        "import random\n",
        "import matplotlib.pyplot as plt\n",
        "from sklearn import preprocessing\n",
        "from sklearn.model_selection import train_test_split\n",
        "from sklearn.linear_model import LogisticRegression\n",
        "from sklearn.metrics import classification_report\n",
        "from sklearn.metrics import accuracy_score\n",
        "from sklearn.metrics import mean_squared_error\n",
        "from sklearn import metrics \n",
        "from math import sqrt\n",
        "from scipy.stats import chi2_contingency\n",
        "from sklearn.utils import resample\n",
        "from sklearn.preprocessing import LabelEncoder, StandardScaler, MinMaxScaler\n",
        "from sklearn.model_selection import train_test_split\n",
        "from sklearn.metrics import classification_report\n",
        "from imblearn.under_sampling import RandomUnderSampler\n",
        "from imblearn.over_sampling import RandomOverSampler\n",
        "from imblearn.over_sampling import SMOTE"
      ]
    },
    {
      "attachments": {},
      "cell_type": "markdown",
      "metadata": {
        "id": "qfm08_7STxbj"
      },
      "source": [
        "# data laoding"
      ]
    },
    {
      "cell_type": "code",
      "execution_count": 2,
      "metadata": {
        "colab": {
          "base_uri": "https://localhost:8080/",
          "height": 270
        },
        "id": "8sNwEudnNcC_",
        "outputId": "8ef4c039-c2bf-4790-9429-1dfc75d1ee68"
      },
      "outputs": [
        {
          "data": {
            "text/html": [
              "<div>\n",
              "<style scoped>\n",
              "    .dataframe tbody tr th:only-of-type {\n",
              "        vertical-align: middle;\n",
              "    }\n",
              "\n",
              "    .dataframe tbody tr th {\n",
              "        vertical-align: top;\n",
              "    }\n",
              "\n",
              "    .dataframe thead th {\n",
              "        text-align: right;\n",
              "    }\n",
              "</style>\n",
              "<table border=\"1\" class=\"dataframe\">\n",
              "  <thead>\n",
              "    <tr style=\"text-align: right;\">\n",
              "      <th></th>\n",
              "      <th>Id</th>\n",
              "      <th>Income</th>\n",
              "      <th>Age</th>\n",
              "      <th>Experience</th>\n",
              "      <th>Married/Single</th>\n",
              "      <th>House_Ownership</th>\n",
              "      <th>Car_Ownership</th>\n",
              "      <th>Profession</th>\n",
              "      <th>CITY</th>\n",
              "      <th>STATE</th>\n",
              "      <th>CURRENT_JOB_YRS</th>\n",
              "      <th>CURRENT_HOUSE_YRS</th>\n",
              "      <th>Risk_Flag</th>\n",
              "    </tr>\n",
              "  </thead>\n",
              "  <tbody>\n",
              "    <tr>\n",
              "      <th>0</th>\n",
              "      <td>1.0</td>\n",
              "      <td>1303834.0</td>\n",
              "      <td>23.0</td>\n",
              "      <td>3.0</td>\n",
              "      <td>single</td>\n",
              "      <td>rented</td>\n",
              "      <td>no</td>\n",
              "      <td>Mechanical_engineer</td>\n",
              "      <td>Rewa</td>\n",
              "      <td>Madhya_Pradesh</td>\n",
              "      <td>3.0</td>\n",
              "      <td>13.0</td>\n",
              "      <td>no</td>\n",
              "    </tr>\n",
              "    <tr>\n",
              "      <th>1</th>\n",
              "      <td>2.0</td>\n",
              "      <td>7574516.0</td>\n",
              "      <td>40.0</td>\n",
              "      <td>10.0</td>\n",
              "      <td>single</td>\n",
              "      <td>rented</td>\n",
              "      <td>no</td>\n",
              "      <td>Software_Developer</td>\n",
              "      <td>Parbhani</td>\n",
              "      <td>Maharashtra</td>\n",
              "      <td>9.0</td>\n",
              "      <td>13.0</td>\n",
              "      <td>no</td>\n",
              "    </tr>\n",
              "    <tr>\n",
              "      <th>2</th>\n",
              "      <td>3.0</td>\n",
              "      <td>3991815.0</td>\n",
              "      <td>66.0</td>\n",
              "      <td>4.0</td>\n",
              "      <td>married</td>\n",
              "      <td>rented</td>\n",
              "      <td>no</td>\n",
              "      <td>Technical_writer</td>\n",
              "      <td>Alappuzha</td>\n",
              "      <td>Kerala</td>\n",
              "      <td>4.0</td>\n",
              "      <td>10.0</td>\n",
              "      <td>no</td>\n",
              "    </tr>\n",
              "    <tr>\n",
              "      <th>3</th>\n",
              "      <td>4.0</td>\n",
              "      <td>6256451.0</td>\n",
              "      <td>41.0</td>\n",
              "      <td>2.0</td>\n",
              "      <td>single</td>\n",
              "      <td>rented</td>\n",
              "      <td>yes</td>\n",
              "      <td>Software_Developer</td>\n",
              "      <td>Bhubaneswar</td>\n",
              "      <td>Odisha</td>\n",
              "      <td>2.0</td>\n",
              "      <td>12.0</td>\n",
              "      <td>yes</td>\n",
              "    </tr>\n",
              "    <tr>\n",
              "      <th>4</th>\n",
              "      <td>5.0</td>\n",
              "      <td>5768871.0</td>\n",
              "      <td>47.0</td>\n",
              "      <td>11.0</td>\n",
              "      <td>single</td>\n",
              "      <td>rented</td>\n",
              "      <td>no</td>\n",
              "      <td>Civil_servant</td>\n",
              "      <td>Tiruchirappalli[10]</td>\n",
              "      <td>Tamil_Nadu</td>\n",
              "      <td>3.0</td>\n",
              "      <td>14.0</td>\n",
              "      <td>yes</td>\n",
              "    </tr>\n",
              "  </tbody>\n",
              "</table>\n",
              "</div>"
            ],
            "text/plain": [
              "    Id     Income   Age  Experience Married/Single House_Ownership  \\\n",
              "0  1.0  1303834.0  23.0         3.0         single          rented   \n",
              "1  2.0  7574516.0  40.0        10.0         single          rented   \n",
              "2  3.0  3991815.0  66.0         4.0        married          rented   \n",
              "3  4.0  6256451.0  41.0         2.0         single          rented   \n",
              "4  5.0  5768871.0  47.0        11.0         single          rented   \n",
              "\n",
              "  Car_Ownership           Profession                 CITY           STATE  \\\n",
              "0            no  Mechanical_engineer                 Rewa  Madhya_Pradesh   \n",
              "1            no   Software_Developer             Parbhani     Maharashtra   \n",
              "2            no     Technical_writer            Alappuzha          Kerala   \n",
              "3           yes   Software_Developer          Bhubaneswar          Odisha   \n",
              "4            no        Civil_servant  Tiruchirappalli[10]      Tamil_Nadu   \n",
              "\n",
              "   CURRENT_JOB_YRS  CURRENT_HOUSE_YRS Risk_Flag  \n",
              "0              3.0               13.0        no  \n",
              "1              9.0               13.0        no  \n",
              "2              4.0               10.0        no  \n",
              "3              2.0               12.0       yes  \n",
              "4              3.0               14.0       yes  "
            ]
          },
          "execution_count": 2,
          "metadata": {},
          "output_type": "execute_result"
        }
      ],
      "source": [
        "df=pd.read_csv('dataset_credit_scoring.csv')\n",
        "df.head()"
      ]
    },
    {
      "attachments": {},
      "cell_type": "markdown",
      "metadata": {
        "id": "d4prA3T8CEfE"
      },
      "source": [
        "**Description des variables de la base de données **\n",
        "Id : Identification \n",
        " \n",
        "Income :\tRevenu de l’individu,  \n",
        "Age :\tAge de l’individu, \n",
        "Expérience :\tExpérience professionnelle en nombre d’années, \n",
        "Married/Single :\tSituation matrimoniale,\n",
        "House_Ownership :\tSituation de location,\n",
        "Car_Ownership :\tPossession de voiture,\n",
        "Profession :\tProfession de l’individu,\n",
        "City :\tVille de résidence, \n",
        "State :\tEtat de résidence,\n",
        "Current_Job_Yrs :\tNombre d’années dans le poste actuel,\n",
        "Current_House_Yrs :\tNombre d’années dans la résidence actuelle,\n",
        "Risk_Flag :\tDéfaut de remboursement \n",
        "\n"
      ]
    },
    {
      "cell_type": "code",
      "execution_count": 3,
      "metadata": {
        "colab": {
          "base_uri": "https://localhost:8080/"
        },
        "id": "NkOWLJq6OHvW",
        "outputId": "07601197-b693-4a33-9111-fa1a704d32aa"
      },
      "outputs": [
        {
          "name": "stdout",
          "output_type": "stream",
          "text": [
            "<class 'pandas.core.frame.DataFrame'>\n",
            "RangeIndex: 199999 entries, 0 to 199998\n",
            "Data columns (total 13 columns):\n",
            " #   Column             Non-Null Count   Dtype  \n",
            "---  ------             --------------   -----  \n",
            " 0   Id                 199993 non-null  float64\n",
            " 1   Income             199888 non-null  float64\n",
            " 2   Age                199993 non-null  float64\n",
            " 3   Experience         199993 non-null  float64\n",
            " 4   Married/Single     199973 non-null  object \n",
            " 5   House_Ownership    199993 non-null  object \n",
            " 6   Car_Ownership      199993 non-null  object \n",
            " 7   Profession         199939 non-null  object \n",
            " 8   CITY               199939 non-null  object \n",
            " 9   STATE              199939 non-null  object \n",
            " 10  CURRENT_JOB_YRS    199781 non-null  float64\n",
            " 11  CURRENT_HOUSE_YRS  199993 non-null  float64\n",
            " 12  Risk_Flag          199993 non-null  object \n",
            "dtypes: float64(6), object(7)\n",
            "memory usage: 19.8+ MB\n"
          ]
        }
      ],
      "source": [
        "df.info()"
      ]
    },
    {
      "attachments": {},
      "cell_type": "markdown",
      "metadata": {
        "id": "CWaXA7tWFQWt"
      },
      "source": [
        "La base comporte deux-cent cinquante-deux milles (252 000) observations  avec sept variables quantitatives et six variables qualitatives. "
      ]
    },
    {
      "cell_type": "code",
      "execution_count": 4,
      "metadata": {
        "id": "qC56FA20DpTP"
      },
      "outputs": [],
      "source": [
        "df1=df.drop([\"Id\",\"Risk_Flag\"],axis=1)"
      ]
    },
    {
      "attachments": {},
      "cell_type": "markdown",
      "metadata": {
        "id": "ffUo55BjBphy"
      },
      "source": [
        "alors j'ai droper ces colonne car se sont des valeurs numérique qui risque d'apparaitre dans la commande de describe(), alors qu'il nos pas de signification dans cette partie"
      ]
    },
    {
      "cell_type": "code",
      "execution_count": 5,
      "metadata": {
        "colab": {
          "base_uri": "https://localhost:8080/",
          "height": 300
        },
        "id": "bds19WGPONn9",
        "outputId": "1e575d52-a1b3-4155-9fbf-4f97bfc91945"
      },
      "outputs": [
        {
          "data": {
            "text/html": [
              "<div>\n",
              "<style scoped>\n",
              "    .dataframe tbody tr th:only-of-type {\n",
              "        vertical-align: middle;\n",
              "    }\n",
              "\n",
              "    .dataframe tbody tr th {\n",
              "        vertical-align: top;\n",
              "    }\n",
              "\n",
              "    .dataframe thead th {\n",
              "        text-align: right;\n",
              "    }\n",
              "</style>\n",
              "<table border=\"1\" class=\"dataframe\">\n",
              "  <thead>\n",
              "    <tr style=\"text-align: right;\">\n",
              "      <th></th>\n",
              "      <th>Income</th>\n",
              "      <th>Age</th>\n",
              "      <th>Experience</th>\n",
              "      <th>CURRENT_JOB_YRS</th>\n",
              "      <th>CURRENT_HOUSE_YRS</th>\n",
              "    </tr>\n",
              "  </thead>\n",
              "  <tbody>\n",
              "    <tr>\n",
              "      <th>count</th>\n",
              "      <td>1.998880e+05</td>\n",
              "      <td>199993.000000</td>\n",
              "      <td>199993.000000</td>\n",
              "      <td>199781.000000</td>\n",
              "      <td>199993.000000</td>\n",
              "    </tr>\n",
              "    <tr>\n",
              "      <th>mean</th>\n",
              "      <td>4.997014e+06</td>\n",
              "      <td>49.963684</td>\n",
              "      <td>10.105919</td>\n",
              "      <td>6.341559</td>\n",
              "      <td>11.995575</td>\n",
              "    </tr>\n",
              "    <tr>\n",
              "      <th>std</th>\n",
              "      <td>2.877116e+06</td>\n",
              "      <td>17.067081</td>\n",
              "      <td>5.994741</td>\n",
              "      <td>3.643475</td>\n",
              "      <td>1.396282</td>\n",
              "    </tr>\n",
              "    <tr>\n",
              "      <th>min</th>\n",
              "      <td>1.031000e+04</td>\n",
              "      <td>21.000000</td>\n",
              "      <td>0.000000</td>\n",
              "      <td>0.000000</td>\n",
              "      <td>10.000000</td>\n",
              "    </tr>\n",
              "    <tr>\n",
              "      <th>25%</th>\n",
              "      <td>2.503015e+06</td>\n",
              "      <td>35.000000</td>\n",
              "      <td>5.000000</td>\n",
              "      <td>4.000000</td>\n",
              "      <td>11.000000</td>\n",
              "    </tr>\n",
              "    <tr>\n",
              "      <th>50%</th>\n",
              "      <td>5.002101e+06</td>\n",
              "      <td>50.000000</td>\n",
              "      <td>10.000000</td>\n",
              "      <td>6.000000</td>\n",
              "      <td>12.000000</td>\n",
              "    </tr>\n",
              "    <tr>\n",
              "      <th>75%</th>\n",
              "      <td>7.475446e+06</td>\n",
              "      <td>65.000000</td>\n",
              "      <td>15.000000</td>\n",
              "      <td>9.000000</td>\n",
              "      <td>13.000000</td>\n",
              "    </tr>\n",
              "    <tr>\n",
              "      <th>max</th>\n",
              "      <td>9.999180e+06</td>\n",
              "      <td>79.000000</td>\n",
              "      <td>20.000000</td>\n",
              "      <td>14.000000</td>\n",
              "      <td>14.000000</td>\n",
              "    </tr>\n",
              "  </tbody>\n",
              "</table>\n",
              "</div>"
            ],
            "text/plain": [
              "             Income            Age     Experience  CURRENT_JOB_YRS  \\\n",
              "count  1.998880e+05  199993.000000  199993.000000    199781.000000   \n",
              "mean   4.997014e+06      49.963684      10.105919         6.341559   \n",
              "std    2.877116e+06      17.067081       5.994741         3.643475   \n",
              "min    1.031000e+04      21.000000       0.000000         0.000000   \n",
              "25%    2.503015e+06      35.000000       5.000000         4.000000   \n",
              "50%    5.002101e+06      50.000000      10.000000         6.000000   \n",
              "75%    7.475446e+06      65.000000      15.000000         9.000000   \n",
              "max    9.999180e+06      79.000000      20.000000        14.000000   \n",
              "\n",
              "       CURRENT_HOUSE_YRS  \n",
              "count      199993.000000  \n",
              "mean           11.995575  \n",
              "std             1.396282  \n",
              "min            10.000000  \n",
              "25%            11.000000  \n",
              "50%            12.000000  \n",
              "75%            13.000000  \n",
              "max            14.000000  "
            ]
          },
          "execution_count": 5,
          "metadata": {},
          "output_type": "execute_result"
        }
      ],
      "source": [
        "df1.describe()"
      ]
    },
    {
      "attachments": {},
      "cell_type": "markdown",
      "metadata": {
        "id": "RSfPgA6ALdFJ"
      },
      "source": [
        "ici nous avons les informations statistique telles que la moyenne, l’écart-type, les trois quartiles, le minimum et le maximum sur chacune des variables qui y figurent. Il indique que le revenu moyen est 4 997 117, le maximum de 9 999 938 et le minimum de 10310. L’individu le plus âgé a 79 ans tandis que le plus jeune est âgé de 21 ans, l’âge moyen étant de 49 ans.  "
      ]
    },
    {
      "attachments": {},
      "cell_type": "markdown",
      "metadata": {
        "id": "s999OpEeQ5-R"
      },
      "source": [
        "# datapréprocessing"
      ]
    },
    {
      "cell_type": "code",
      "execution_count": 6,
      "metadata": {
        "colab": {
          "base_uri": "https://localhost:8080/"
        },
        "id": "opjBMDqHcAyj",
        "outputId": "19912e86-4e97-4d41-933f-489ad2f1376b"
      },
      "outputs": [
        {
          "data": {
            "text/plain": [
              "Id                     6\n",
              "Income               111\n",
              "Age                    6\n",
              "Experience             6\n",
              "Married/Single        26\n",
              "House_Ownership        6\n",
              "Car_Ownership          6\n",
              "Profession            60\n",
              "CITY                  60\n",
              "STATE                 60\n",
              "CURRENT_JOB_YRS      218\n",
              "CURRENT_HOUSE_YRS      6\n",
              "Risk_Flag              6\n",
              "dtype: int64"
            ]
          },
          "execution_count": 6,
          "metadata": {},
          "output_type": "execute_result"
        }
      ],
      "source": [
        "df.isnull().sum()"
      ]
    },
    {
      "attachments": {},
      "cell_type": "markdown",
      "metadata": {
        "id": "kDkVPC9MQJ07"
      },
      "source": [
        "nous avons quelque données manquantes nous allons procèdé à leurs remplacement"
      ]
    },
    {
      "cell_type": "code",
      "execution_count": 7,
      "metadata": {
        "colab": {
          "base_uri": "https://localhost:8080/"
        },
        "id": "FwU5SUrm1Bkz",
        "outputId": "c56ac7b1-1d52-4b9b-ee0c-00c5f2fccf28"
      },
      "outputs": [
        {
          "data": {
            "text/plain": [
              "Id                   0\n",
              "Income               0\n",
              "Age                  0\n",
              "Experience           0\n",
              "Married/Single       0\n",
              "House_Ownership      0\n",
              "Car_Ownership        0\n",
              "Profession           0\n",
              "CITY                 0\n",
              "STATE                0\n",
              "CURRENT_JOB_YRS      0\n",
              "CURRENT_HOUSE_YRS    0\n",
              "Risk_Flag            0\n",
              "dtype: int64"
            ]
          },
          "execution_count": 7,
          "metadata": {},
          "output_type": "execute_result"
        }
      ],
      "source": [
        "df=df.fillna(method='ffill')\n",
        "df.isnull().sum()"
      ]
    },
    {
      "attachments": {},
      "cell_type": "markdown",
      "metadata": {
        "id": "HKYYVrxyOtsU"
      },
      "source": [
        "Alors je vient de remplacer les données manquantes par la méthode interpolation qui est un outil mathémathique très utile pour le remplacement de données manquante\n",
        "\n",
        ":"
      ]
    },
    {
      "attachments": {},
      "cell_type": "markdown",
      "metadata": {
        "id": "e4Kewc38UFRi"
      },
      "source": [
        "# visualisation et exploration "
      ]
    },
    {
      "cell_type": "code",
      "execution_count": 8,
      "metadata": {
        "colab": {
          "base_uri": "https://localhost:8080/",
          "height": 489
        },
        "id": "DKNr9IiDiDSV",
        "outputId": "619d21c6-ded2-4e6a-c5fd-e70d311872ad"
      },
      "outputs": [
        {
          "data": {
            "text/plain": [
              "Text(0, 0.5, 'counts')"
            ]
          },
          "execution_count": 8,
          "metadata": {},
          "output_type": "execute_result"
        },
        {
          "data": {
            "image/png": "[encoded data removed]",
            "text/plain": [
              "<Figure size 640x480 with 1 Axes>"
            ]
          },
          "metadata": {},
          "output_type": "display_data"
        }
      ],
      "source": [
        "x=df['CURRENT_JOB_YRS']\n",
        "plt.hist(x, bins=30, density=True, color='g')\n",
        "plt.title(\"Répartition selon le nombre d'années passé dans le poste actuel\")\n",
        "plt.xlabel(\"Income\")\n",
        "plt.ylabel(\"counts\")"
      ]
    },
    {
      "attachments": {},
      "cell_type": "markdown",
      "metadata": {
        "id": "Rmf3qsyRjmak"
      },
      "source": [
        "Le graph montre qu’il y’a plus d’individus qui ont passés 3 à 6 ans dans leurs postes actuels qu’il y’en a entre [0 – 2] ans ou encore entre [12 - 14] ans. "
      ]
    },
    {
      "cell_type": "code",
      "execution_count": 9,
      "metadata": {
        "colab": {
          "base_uri": "https://localhost:8080/",
          "height": 489
        },
        "id": "2E7IzEECcO_K",
        "outputId": "fd5acb2b-6b92-4ef8-b1f9-c7a78bb1876f"
      },
      "outputs": [
        {
          "data": {
            "text/plain": [
              "Text(0.5, 0, 'Income')"
            ]
          },
          "execution_count": 9,
          "metadata": {},
          "output_type": "execute_result"
        },
        {
          "data": {
            "image/png": "[encoded data removed]",
            "text/plain": [
              "<Figure size 640x480 with 1 Axes>"
            ]
          },
          "metadata": {},
          "output_type": "display_data"
        }
      ],
      "source": [
        "\n",
        "\n",
        "sns.boxplot(df['Income'])\n",
        "plt.title('Boîte à moustaches')\n",
        "plt.xlabel('Income')\n",
        "\n",
        "\n",
        "\n"
      ]
    },
    {
      "attachments": {},
      "cell_type": "markdown",
      "metadata": {
        "id": "kxIEtP_6cZTg"
      },
      "source": [
        "La boite à moustaches du revenu a permis de vérifier que la variable ne contient pas de valeur aberrante ou atypique."
      ]
    },
    {
      "cell_type": "code",
      "execution_count": 10,
      "metadata": {
        "colab": {
          "base_uri": "https://localhost:8080/",
          "height": 499
        },
        "id": "erEZ4V-VfNon",
        "outputId": "a2268389-e9ea-433c-b682-45f1b72ff636"
      },
      "outputs": [
        {
          "data": {
            "text/plain": [
              "Text(0, 0.5, 'counts')"
            ]
          },
          "execution_count": 10,
          "metadata": {},
          "output_type": "execute_result"
        },
        {
          "data": {
            "image/png": "[encoded data removed]",
            "text/plain": [
              "<Figure size 640x480 with 1 Axes>"
            ]
          },
          "metadata": {},
          "output_type": "display_data"
        }
      ],
      "source": [
        "df['Risk_Flag'].value_counts().plot.bar()\n",
        "plt.title(\"Répartition des clients\")\n",
        "plt.xlabel(\"statut de rembourssement\")\n",
        "plt.ylabel(\"counts\")"
      ]
    },
    {
      "attachments": {},
      "cell_type": "markdown",
      "metadata": {
        "id": "bVSi7By4fnDi"
      },
      "source": [
        "Nous pouvons voir ici le nombre de cliennts en défaut est largement superieur aux clients qui ne sont pas en défaut de payement dés ici on peut prévoir que nombre modèle risque de classer plus dans la classe des clients en défaut avec cette déshéquilibre de classe."
      ]
    },
    {
      "cell_type": "code",
      "execution_count": 11,
      "metadata": {
        "colab": {
          "base_uri": "https://localhost:8080/",
          "height": 530
        },
        "id": "UnlhbYGB2CBE",
        "outputId": "6a85dd13-f4d0-40b8-b481-100a202c19bd"
      },
      "outputs": [
        {
          "data": {
            "text/plain": [
              "Text(0, 0.5, 'counts')"
            ]
          },
          "execution_count": 11,
          "metadata": {},
          "output_type": "execute_result"
        },
        {
          "data": {
            "image/png": "[encoded data removed]",
            "text/plain": [
              "<Figure size 640x480 with 1 Axes>"
            ]
          },
          "metadata": {},
          "output_type": "display_data"
        }
      ],
      "source": [
        "fig, ax = plt.subplots()\n",
        "df['Married/Single'].value_counts().plot.bar()\n",
        "plt.title(\"Répartition des clients\")\n",
        "plt.xlabel(\"situation matrimonial\")\n",
        "plt.ylabel(\"counts\")\n"
      ]
    },
    {
      "attachments": {},
      "cell_type": "markdown",
      "metadata": {
        "id": "TWU08j346nhv"
      },
      "source": [
        "Le graph  montre qu’il y’a plus de célibataires que de mariés"
      ]
    },
    {
      "attachments": {},
      "cell_type": "markdown",
      "metadata": {
        "id": "dWEAPopjDPza"
      },
      "source": [
        "# Analyse de contingence"
      ]
    },
    {
      "attachments": {},
      "cell_type": "markdown",
      "metadata": {
        "id": "ZESKJzxtDaO1"
      },
      "source": [
        "Pour pouvoir comprendre les critères qui font qu’une personne soit potentiellement défaillante \n",
        "ou non, je vais  analyser les relations entre le défaut de remboursement et certaines \n",
        "caractéristiques qualitatives des emprunteurs."
      ]
    },
    {
      "cell_type": "code",
      "execution_count": 12,
      "metadata": {
        "colab": {
          "base_uri": "https://localhost:8080/",
          "height": 324
        },
        "id": "--BELH7v6xR-",
        "outputId": "eee53f98-0a3a-405b-a7ee-f5c7a6f9a754"
      },
      "outputs": [
        {
          "data": {
            "text/plain": [
              "<seaborn.axisgrid.FacetGrid at 0x12b82fdaf90>"
            ]
          },
          "execution_count": 12,
          "metadata": {},
          "output_type": "execute_result"
        },
        {
          "data": {
            "image/png": "[encoded data removed]",
            "text/plain": [
              "<Figure size 600x300 with 2 Axes>"
            ]
          },
          "metadata": {},
          "output_type": "display_data"
        }
      ],
      "source": [
        "df=pd.read_csv('dataset_credit_scoring.csv')\n",
        "g=sns.FacetGrid(df, col='Risk_Flag')\n",
        "g.map(plt.hist,'House_Ownership')"
      ]
    },
    {
      "attachments": {},
      "cell_type": "markdown",
      "metadata": {
        "id": "QMQricC1AVB_"
      },
      "source": [
        "Le graph révèle qu’il y’a plus de locataires en défaut de remboursement que de \n",
        "propriétaires ou d’hébergés."
      ]
    },
    {
      "cell_type": "code",
      "execution_count": 13,
      "metadata": {
        "colab": {
          "base_uri": "https://localhost:8080/",
          "height": 324
        },
        "id": "syRg72JTBGA0",
        "outputId": "8ea29ba5-1530-45c3-ca47-a8f1a621425d"
      },
      "outputs": [
        {
          "data": {
            "text/plain": [
              "<seaborn.axisgrid.FacetGrid at 0x12b862d7550>"
            ]
          },
          "execution_count": 13,
          "metadata": {},
          "output_type": "execute_result"
        },
        {
          "data": {
            "image/png": "[encoded data removed]",
            "text/plain": [
              "<Figure size 600x300 with 2 Axes>"
            ]
          },
          "metadata": {},
          "output_type": "display_data"
        }
      ],
      "source": [
        "df=pd.read_csv('dataset_credit_scoring.csv')\n",
        "g=sns.FacetGrid(df, col='Risk_Flag')\n",
        "g.map(plt.hist,'Car_Ownership')"
      ]
    },
    {
      "attachments": {},
      "cell_type": "markdown",
      "metadata": {
        "id": "MBVeS3B0ChN-"
      },
      "source": [
        "Le graph indique qu’il y’a plus d’individus non véhiculés tombés en défaut que de \n",
        "véhiculés en défaut."
      ]
    },
    {
      "cell_type": "code",
      "execution_count": 14,
      "metadata": {
        "colab": {
          "base_uri": "https://localhost:8080/",
          "height": 938
        },
        "id": "302CE6lPwloj",
        "outputId": "0a3a644c-7d24-4c12-986d-2afaaf38f435"
      },
      "outputs": [
        {
          "name": "stderr",
          "output_type": "stream",
          "text": [
            "C:\\Users\\rezga\\AppData\\Local\\Temp\\ipykernel_9728\\3439877949.py:2: FutureWarning: The default value of numeric_only in DataFrame.corr is deprecated. In a future version, it will default to False. Select only valid columns or specify the value of numeric_only to silence this warning.\n",
            "  p=sns.heatmap(df.corr(), annot=True,cmap='RdYlGn')\n"
          ]
        },
        {
          "data": {
            "image/png": "[encoded data removed]",
            "text/plain": [
              "<Figure size 1200x1000 with 2 Axes>"
            ]
          },
          "metadata": {},
          "output_type": "display_data"
        }
      ],
      "source": [
        "\n",
        "plt.figure(figsize=(12,10))\n",
        "p=sns.heatmap(df.corr(), annot=True,cmap='RdYlGn')"
      ]
    },
    {
      "attachments": {},
      "cell_type": "markdown",
      "metadata": {
        "id": "GNa5oaQWvqhX"
      },
      "source": [
        "La matrice de corrélation révèle que les variables ne sont pas corrélées entre elles, à l’exception de l’expérience et le nombre d’années dans le poste actuel. Une forte corrélation entre les variables aurait été négative car elles apporteraient la même information ce dont nous n’avons pas besoin. Chaque variable doit pouvoir discriminer les individus de manière unique. "
      ]
    },
    {
      "attachments": {},
      "cell_type": "markdown",
      "metadata": {
        "id": "PH5XOCv5btYF"
      },
      "source": [
        "**préparation de mes données pour l'apprentissage Avant de procéder à la modélisation, il faut d’abord s’assurer que les données soient prêtent. La phase de préparation passe par l’apurement, le recodage et la normalisation **"
      ]
    },
    {
      "attachments": {},
      "cell_type": "markdown",
      "metadata": {
        "id": "OBpNcl6RZcPp"
      },
      "source": [
        "# codification de données"
      ]
    },
    {
      "cell_type": "code",
      "execution_count": null,
      "metadata": {
        "id": "Tp_bJ4T2chH-"
      },
      "outputs": [],
      "source": []
    },
    {
      "cell_type": "code",
      "execution_count": 15,
      "metadata": {
        "id": "vUti7Y2zGb8y"
      },
      "outputs": [],
      "source": [
        "features = ['Car_Ownership','Profession','CITY','STATE','House_Ownership']\n",
        "label_encoder = LabelEncoder()\n",
        "\n",
        "for col in features:\n",
        "    df[col] = label_encoder.fit_transform(df[col])\n",
        "   \n"
      ]
    },
    {
      "attachments": {},
      "cell_type": "markdown",
      "metadata": {
        "id": "2l2AgNMmZibu"
      },
      "source": [
        "alors dans cette partie j'ai codifier certain des données de manière automatique car la connaissance de leurs code numérique  n'est trop utile"
      ]
    },
    {
      "cell_type": "code",
      "execution_count": 16,
      "metadata": {
        "colab": {
          "base_uri": "https://localhost:8080/",
          "height": 270
        },
        "id": "Hc9ybaWwIBLY",
        "outputId": "33f96881-3c7e-40cf-b111-6279e1522e70"
      },
      "outputs": [
        {
          "data": {
            "text/html": [
              "<div>\n",
              "<style scoped>\n",
              "    .dataframe tbody tr th:only-of-type {\n",
              "        vertical-align: middle;\n",
              "    }\n",
              "\n",
              "    .dataframe tbody tr th {\n",
              "        vertical-align: top;\n",
              "    }\n",
              "\n",
              "    .dataframe thead th {\n",
              "        text-align: right;\n",
              "    }\n",
              "</style>\n",
              "<table border=\"1\" class=\"dataframe\">\n",
              "  <thead>\n",
              "    <tr style=\"text-align: right;\">\n",
              "      <th></th>\n",
              "      <th>Id</th>\n",
              "      <th>Income</th>\n",
              "      <th>Age</th>\n",
              "      <th>Experience</th>\n",
              "      <th>Married/Single</th>\n",
              "      <th>House_Ownership</th>\n",
              "      <th>Car_Ownership</th>\n",
              "      <th>Profession</th>\n",
              "      <th>CITY</th>\n",
              "      <th>STATE</th>\n",
              "      <th>CURRENT_JOB_YRS</th>\n",
              "      <th>CURRENT_HOUSE_YRS</th>\n",
              "      <th>Risk_Flag</th>\n",
              "    </tr>\n",
              "  </thead>\n",
              "  <tbody>\n",
              "    <tr>\n",
              "      <th>0</th>\n",
              "      <td>1.0</td>\n",
              "      <td>1303834.0</td>\n",
              "      <td>23.0</td>\n",
              "      <td>3.0</td>\n",
              "      <td>single</td>\n",
              "      <td>2</td>\n",
              "      <td>0</td>\n",
              "      <td>33</td>\n",
              "      <td>251</td>\n",
              "      <td>13</td>\n",
              "      <td>3.0</td>\n",
              "      <td>13.0</td>\n",
              "      <td>0.0</td>\n",
              "    </tr>\n",
              "    <tr>\n",
              "      <th>1</th>\n",
              "      <td>2.0</td>\n",
              "      <td>7574516.0</td>\n",
              "      <td>40.0</td>\n",
              "      <td>10.0</td>\n",
              "      <td>single</td>\n",
              "      <td>2</td>\n",
              "      <td>0</td>\n",
              "      <td>43</td>\n",
              "      <td>227</td>\n",
              "      <td>14</td>\n",
              "      <td>9.0</td>\n",
              "      <td>13.0</td>\n",
              "      <td>0.0</td>\n",
              "    </tr>\n",
              "    <tr>\n",
              "      <th>2</th>\n",
              "      <td>3.0</td>\n",
              "      <td>3991815.0</td>\n",
              "      <td>66.0</td>\n",
              "      <td>4.0</td>\n",
              "      <td>married</td>\n",
              "      <td>2</td>\n",
              "      <td>0</td>\n",
              "      <td>47</td>\n",
              "      <td>8</td>\n",
              "      <td>12</td>\n",
              "      <td>4.0</td>\n",
              "      <td>10.0</td>\n",
              "      <td>0.0</td>\n",
              "    </tr>\n",
              "    <tr>\n",
              "      <th>3</th>\n",
              "      <td>4.0</td>\n",
              "      <td>6256451.0</td>\n",
              "      <td>41.0</td>\n",
              "      <td>2.0</td>\n",
              "      <td>single</td>\n",
              "      <td>2</td>\n",
              "      <td>1</td>\n",
              "      <td>43</td>\n",
              "      <td>54</td>\n",
              "      <td>17</td>\n",
              "      <td>2.0</td>\n",
              "      <td>12.0</td>\n",
              "      <td>1.0</td>\n",
              "    </tr>\n",
              "    <tr>\n",
              "      <th>4</th>\n",
              "      <td>5.0</td>\n",
              "      <td>5768871.0</td>\n",
              "      <td>47.0</td>\n",
              "      <td>11.0</td>\n",
              "      <td>single</td>\n",
              "      <td>2</td>\n",
              "      <td>0</td>\n",
              "      <td>11</td>\n",
              "      <td>296</td>\n",
              "      <td>22</td>\n",
              "      <td>3.0</td>\n",
              "      <td>14.0</td>\n",
              "      <td>1.0</td>\n",
              "    </tr>\n",
              "  </tbody>\n",
              "</table>\n",
              "</div>"
            ],
            "text/plain": [
              "    Id     Income   Age  Experience Married/Single  House_Ownership  \\\n",
              "0  1.0  1303834.0  23.0         3.0         single                2   \n",
              "1  2.0  7574516.0  40.0        10.0         single                2   \n",
              "2  3.0  3991815.0  66.0         4.0        married                2   \n",
              "3  4.0  6256451.0  41.0         2.0         single                2   \n",
              "4  5.0  5768871.0  47.0        11.0         single                2   \n",
              "\n",
              "   Car_Ownership  Profession  CITY  STATE  CURRENT_JOB_YRS  CURRENT_HOUSE_YRS  \\\n",
              "0              0          33   251     13              3.0               13.0   \n",
              "1              0          43   227     14              9.0               13.0   \n",
              "2              0          47     8     12              4.0               10.0   \n",
              "3              1          43    54     17              2.0               12.0   \n",
              "4              0          11   296     22              3.0               14.0   \n",
              "\n",
              "   Risk_Flag  \n",
              "0        0.0  \n",
              "1        0.0  \n",
              "2        0.0  \n",
              "3        1.0  \n",
              "4        1.0  "
            ]
          },
          "execution_count": 16,
          "metadata": {},
          "output_type": "execute_result"
        }
      ],
      "source": [
        "dict={\n",
        "    \"no\":0,\n",
        "    \"yes\": 1\n",
        "   }\n",
        "df.replace(dict,inplace=True)\n",
        "df.head()"
      ]
    },
    {
      "cell_type": "code",
      "execution_count": 17,
      "metadata": {
        "colab": {
          "base_uri": "https://localhost:8080/",
          "height": 270
        },
        "id": "MK5XyyMkIMfo",
        "outputId": "17eb2cc3-60e0-4bf9-cae3-73afe0b62f6a"
      },
      "outputs": [
        {
          "data": {
            "text/html": [
              "<div>\n",
              "<style scoped>\n",
              "    .dataframe tbody tr th:only-of-type {\n",
              "        vertical-align: middle;\n",
              "    }\n",
              "\n",
              "    .dataframe tbody tr th {\n",
              "        vertical-align: top;\n",
              "    }\n",
              "\n",
              "    .dataframe thead th {\n",
              "        text-align: right;\n",
              "    }\n",
              "</style>\n",
              "<table border=\"1\" class=\"dataframe\">\n",
              "  <thead>\n",
              "    <tr style=\"text-align: right;\">\n",
              "      <th></th>\n",
              "      <th>Id</th>\n",
              "      <th>Income</th>\n",
              "      <th>Age</th>\n",
              "      <th>Experience</th>\n",
              "      <th>Married/Single</th>\n",
              "      <th>House_Ownership</th>\n",
              "      <th>Car_Ownership</th>\n",
              "      <th>Profession</th>\n",
              "      <th>CITY</th>\n",
              "      <th>STATE</th>\n",
              "      <th>CURRENT_JOB_YRS</th>\n",
              "      <th>CURRENT_HOUSE_YRS</th>\n",
              "      <th>Risk_Flag</th>\n",
              "    </tr>\n",
              "  </thead>\n",
              "  <tbody>\n",
              "    <tr>\n",
              "      <th>0</th>\n",
              "      <td>1.0</td>\n",
              "      <td>1303834.0</td>\n",
              "      <td>23.0</td>\n",
              "      <td>3.0</td>\n",
              "      <td>0.0</td>\n",
              "      <td>2</td>\n",
              "      <td>0</td>\n",
              "      <td>33</td>\n",
              "      <td>251</td>\n",
              "      <td>13</td>\n",
              "      <td>3.0</td>\n",
              "      <td>13.0</td>\n",
              "      <td>0.0</td>\n",
              "    </tr>\n",
              "    <tr>\n",
              "      <th>1</th>\n",
              "      <td>2.0</td>\n",
              "      <td>7574516.0</td>\n",
              "      <td>40.0</td>\n",
              "      <td>10.0</td>\n",
              "      <td>0.0</td>\n",
              "      <td>2</td>\n",
              "      <td>0</td>\n",
              "      <td>43</td>\n",
              "      <td>227</td>\n",
              "      <td>14</td>\n",
              "      <td>9.0</td>\n",
              "      <td>13.0</td>\n",
              "      <td>0.0</td>\n",
              "    </tr>\n",
              "    <tr>\n",
              "      <th>2</th>\n",
              "      <td>3.0</td>\n",
              "      <td>3991815.0</td>\n",
              "      <td>66.0</td>\n",
              "      <td>4.0</td>\n",
              "      <td>1.0</td>\n",
              "      <td>2</td>\n",
              "      <td>0</td>\n",
              "      <td>47</td>\n",
              "      <td>8</td>\n",
              "      <td>12</td>\n",
              "      <td>4.0</td>\n",
              "      <td>10.0</td>\n",
              "      <td>0.0</td>\n",
              "    </tr>\n",
              "    <tr>\n",
              "      <th>3</th>\n",
              "      <td>4.0</td>\n",
              "      <td>6256451.0</td>\n",
              "      <td>41.0</td>\n",
              "      <td>2.0</td>\n",
              "      <td>0.0</td>\n",
              "      <td>2</td>\n",
              "      <td>1</td>\n",
              "      <td>43</td>\n",
              "      <td>54</td>\n",
              "      <td>17</td>\n",
              "      <td>2.0</td>\n",
              "      <td>12.0</td>\n",
              "      <td>1.0</td>\n",
              "    </tr>\n",
              "    <tr>\n",
              "      <th>4</th>\n",
              "      <td>5.0</td>\n",
              "      <td>5768871.0</td>\n",
              "      <td>47.0</td>\n",
              "      <td>11.0</td>\n",
              "      <td>0.0</td>\n",
              "      <td>2</td>\n",
              "      <td>0</td>\n",
              "      <td>11</td>\n",
              "      <td>296</td>\n",
              "      <td>22</td>\n",
              "      <td>3.0</td>\n",
              "      <td>14.0</td>\n",
              "      <td>1.0</td>\n",
              "    </tr>\n",
              "  </tbody>\n",
              "</table>\n",
              "</div>"
            ],
            "text/plain": [
              "    Id     Income   Age  Experience  Married/Single  House_Ownership  \\\n",
              "0  1.0  1303834.0  23.0         3.0             0.0                2   \n",
              "1  2.0  7574516.0  40.0        10.0             0.0                2   \n",
              "2  3.0  3991815.0  66.0         4.0             1.0                2   \n",
              "3  4.0  6256451.0  41.0         2.0             0.0                2   \n",
              "4  5.0  5768871.0  47.0        11.0             0.0                2   \n",
              "\n",
              "   Car_Ownership  Profession  CITY  STATE  CURRENT_JOB_YRS  CURRENT_HOUSE_YRS  \\\n",
              "0              0          33   251     13              3.0               13.0   \n",
              "1              0          43   227     14              9.0               13.0   \n",
              "2              0          47     8     12              4.0               10.0   \n",
              "3              1          43    54     17              2.0               12.0   \n",
              "4              0          11   296     22              3.0               14.0   \n",
              "\n",
              "   Risk_Flag  \n",
              "0        0.0  \n",
              "1        0.0  \n",
              "2        0.0  \n",
              "3        1.0  \n",
              "4        1.0  "
            ]
          },
          "execution_count": 17,
          "metadata": {},
          "output_type": "execute_result"
        }
      ],
      "source": [
        "dict={\n",
        "    \"single\":0,\n",
        "    \"married\": 1\n",
        "   }\n",
        "df.replace(dict,inplace=True)\n",
        "df.head()"
      ]
    },
    {
      "attachments": {},
      "cell_type": "markdown",
      "metadata": {
        "id": "whESzR_iaRIp"
      },
      "source": [
        "dans cette partie je vient de codifier mes données binaire de la méthode manuel pour pouvoir ensuite faire une interprétatation plus aisé même après la codification"
      ]
    },
    {
      "attachments": {},
      "cell_type": "markdown",
      "metadata": {
        "id": "lWglkSDxaZCV"
      },
      "source": [
        "# normalisation"
      ]
    },
    {
      "attachments": {},
      "cell_type": "markdown",
      "metadata": {
        "id": "367rZPrmc0Ka"
      },
      "source": [
        "La normalisation est nécessaire car elle facilite l’apprentissage des modèles de Machine Learning qui sont basés sur la descente du gradient, les calculs de distance ou les calculs de variance. **texte en gras**"
      ]
    },
    {
      "cell_type": "code",
      "execution_count": 18,
      "metadata": {
        "colab": {
          "base_uri": "https://localhost:8080/",
          "height": 488
        },
        "id": "bQ3GqmmmJBom",
        "outputId": "3a69bf1a-443e-4f98-fd9d-6084f0ee34d4"
      },
      "outputs": [
        {
          "data": {
            "text/html": [
              "<div>\n",
              "<style scoped>\n",
              "    .dataframe tbody tr th:only-of-type {\n",
              "        vertical-align: middle;\n",
              "    }\n",
              "\n",
              "    .dataframe tbody tr th {\n",
              "        vertical-align: top;\n",
              "    }\n",
              "\n",
              "    .dataframe thead th {\n",
              "        text-align: right;\n",
              "    }\n",
              "</style>\n",
              "<table border=\"1\" class=\"dataframe\">\n",
              "  <thead>\n",
              "    <tr style=\"text-align: right;\">\n",
              "      <th></th>\n",
              "      <th>Id</th>\n",
              "      <th>Income</th>\n",
              "      <th>Age</th>\n",
              "      <th>Experience</th>\n",
              "      <th>Married/Single</th>\n",
              "      <th>House_Ownership</th>\n",
              "      <th>Car_Ownership</th>\n",
              "      <th>Profession</th>\n",
              "      <th>CITY</th>\n",
              "      <th>STATE</th>\n",
              "      <th>CURRENT_JOB_YRS</th>\n",
              "      <th>CURRENT_HOUSE_YRS</th>\n",
              "      <th>Risk_Flag</th>\n",
              "    </tr>\n",
              "  </thead>\n",
              "  <tbody>\n",
              "    <tr>\n",
              "      <th>0</th>\n",
              "      <td>0.000000</td>\n",
              "      <td>0.129497</td>\n",
              "      <td>0.034483</td>\n",
              "      <td>0.15</td>\n",
              "      <td>0.0</td>\n",
              "      <td>0.666667</td>\n",
              "      <td>0.0</td>\n",
              "      <td>0.647059</td>\n",
              "      <td>0.791798</td>\n",
              "      <td>0.448276</td>\n",
              "      <td>0.214286</td>\n",
              "      <td>0.75</td>\n",
              "      <td>0.0</td>\n",
              "    </tr>\n",
              "    <tr>\n",
              "      <th>1</th>\n",
              "      <td>0.000005</td>\n",
              "      <td>0.757263</td>\n",
              "      <td>0.327586</td>\n",
              "      <td>0.50</td>\n",
              "      <td>0.0</td>\n",
              "      <td>0.666667</td>\n",
              "      <td>0.0</td>\n",
              "      <td>0.843137</td>\n",
              "      <td>0.716088</td>\n",
              "      <td>0.482759</td>\n",
              "      <td>0.642857</td>\n",
              "      <td>0.75</td>\n",
              "      <td>0.0</td>\n",
              "    </tr>\n",
              "    <tr>\n",
              "      <th>2</th>\n",
              "      <td>0.000010</td>\n",
              "      <td>0.398594</td>\n",
              "      <td>0.775862</td>\n",
              "      <td>0.20</td>\n",
              "      <td>1.0</td>\n",
              "      <td>0.666667</td>\n",
              "      <td>0.0</td>\n",
              "      <td>0.921569</td>\n",
              "      <td>0.025237</td>\n",
              "      <td>0.413793</td>\n",
              "      <td>0.285714</td>\n",
              "      <td>0.00</td>\n",
              "      <td>0.0</td>\n",
              "    </tr>\n",
              "    <tr>\n",
              "      <th>3</th>\n",
              "      <td>0.000015</td>\n",
              "      <td>0.625310</td>\n",
              "      <td>0.344828</td>\n",
              "      <td>0.10</td>\n",
              "      <td>0.0</td>\n",
              "      <td>0.666667</td>\n",
              "      <td>0.5</td>\n",
              "      <td>0.843137</td>\n",
              "      <td>0.170347</td>\n",
              "      <td>0.586207</td>\n",
              "      <td>0.142857</td>\n",
              "      <td>0.50</td>\n",
              "      <td>1.0</td>\n",
              "    </tr>\n",
              "    <tr>\n",
              "      <th>4</th>\n",
              "      <td>0.000020</td>\n",
              "      <td>0.576498</td>\n",
              "      <td>0.448276</td>\n",
              "      <td>0.55</td>\n",
              "      <td>0.0</td>\n",
              "      <td>0.666667</td>\n",
              "      <td>0.0</td>\n",
              "      <td>0.215686</td>\n",
              "      <td>0.933754</td>\n",
              "      <td>0.758621</td>\n",
              "      <td>0.214286</td>\n",
              "      <td>1.00</td>\n",
              "      <td>1.0</td>\n",
              "    </tr>\n",
              "    <tr>\n",
              "      <th>...</th>\n",
              "      <td>...</td>\n",
              "      <td>...</td>\n",
              "      <td>...</td>\n",
              "      <td>...</td>\n",
              "      <td>...</td>\n",
              "      <td>...</td>\n",
              "      <td>...</td>\n",
              "      <td>...</td>\n",
              "      <td>...</td>\n",
              "      <td>...</td>\n",
              "      <td>...</td>\n",
              "      <td>...</td>\n",
              "      <td>...</td>\n",
              "    </tr>\n",
              "    <tr>\n",
              "      <th>199994</th>\n",
              "      <td>0.999980</td>\n",
              "      <td>0.799064</td>\n",
              "      <td>0.396552</td>\n",
              "      <td>0.75</td>\n",
              "      <td>0.0</td>\n",
              "      <td>0.666667</td>\n",
              "      <td>0.0</td>\n",
              "      <td>0.431373</td>\n",
              "      <td>0.640379</td>\n",
              "      <td>0.034483</td>\n",
              "      <td>0.285714</td>\n",
              "      <td>0.25</td>\n",
              "      <td>0.0</td>\n",
              "    </tr>\n",
              "    <tr>\n",
              "      <th>199995</th>\n",
              "      <td>0.999985</td>\n",
              "      <td>0.735539</td>\n",
              "      <td>0.500000</td>\n",
              "      <td>0.65</td>\n",
              "      <td>0.0</td>\n",
              "      <td>0.666667</td>\n",
              "      <td>0.5</td>\n",
              "      <td>0.431373</td>\n",
              "      <td>0.167192</td>\n",
              "      <td>0.448276</td>\n",
              "      <td>0.500000</td>\n",
              "      <td>1.00</td>\n",
              "      <td>0.0</td>\n",
              "    </tr>\n",
              "    <tr>\n",
              "      <th>199996</th>\n",
              "      <td>0.999990</td>\n",
              "      <td>0.711347</td>\n",
              "      <td>0.534483</td>\n",
              "      <td>0.85</td>\n",
              "      <td>0.0</td>\n",
              "      <td>0.666667</td>\n",
              "      <td>0.0</td>\n",
              "      <td>0.725490</td>\n",
              "      <td>0.252366</td>\n",
              "      <td>0.172414</td>\n",
              "      <td>1.000000</td>\n",
              "      <td>0.25</td>\n",
              "      <td>0.0</td>\n",
              "    </tr>\n",
              "    <tr>\n",
              "      <th>199997</th>\n",
              "      <td>0.999995</td>\n",
              "      <td>0.152409</td>\n",
              "      <td>1.000000</td>\n",
              "      <td>0.10</td>\n",
              "      <td>0.0</td>\n",
              "      <td>0.666667</td>\n",
              "      <td>0.0</td>\n",
              "      <td>0.529412</td>\n",
              "      <td>0.362776</td>\n",
              "      <td>0.862069</td>\n",
              "      <td>0.142857</td>\n",
              "      <td>0.50</td>\n",
              "      <td>0.0</td>\n",
              "    </tr>\n",
              "    <tr>\n",
              "      <th>199998</th>\n",
              "      <td>1.000000</td>\n",
              "      <td>0.952159</td>\n",
              "      <td>0.965517</td>\n",
              "      <td>0.45</td>\n",
              "      <td>0.0</td>\n",
              "      <td>0.666667</td>\n",
              "      <td>0.0</td>\n",
              "      <td>0.294118</td>\n",
              "      <td>0.618297</td>\n",
              "      <td>0.068966</td>\n",
              "      <td>0.642857</td>\n",
              "      <td>0.75</td>\n",
              "      <td>0.0</td>\n",
              "    </tr>\n",
              "  </tbody>\n",
              "</table>\n",
              "<p>199999 rows × 13 columns</p>\n",
              "</div>"
            ],
            "text/plain": [
              "              Id    Income       Age  Experience  Married/Single  \\\n",
              "0       0.000000  0.129497  0.034483        0.15             0.0   \n",
              "1       0.000005  0.757263  0.327586        0.50             0.0   \n",
              "2       0.000010  0.398594  0.775862        0.20             1.0   \n",
              "3       0.000015  0.625310  0.344828        0.10             0.0   \n",
              "4       0.000020  0.576498  0.448276        0.55             0.0   \n",
              "...          ...       ...       ...         ...             ...   \n",
              "199994  0.999980  0.799064  0.396552        0.75             0.0   \n",
              "199995  0.999985  0.735539  0.500000        0.65             0.0   \n",
              "199996  0.999990  0.711347  0.534483        0.85             0.0   \n",
              "199997  0.999995  0.152409  1.000000        0.10             0.0   \n",
              "199998  1.000000  0.952159  0.965517        0.45             0.0   \n",
              "\n",
              "        House_Ownership  Car_Ownership  Profession      CITY     STATE  \\\n",
              "0              0.666667            0.0    0.647059  0.791798  0.448276   \n",
              "1              0.666667            0.0    0.843137  0.716088  0.482759   \n",
              "2              0.666667            0.0    0.921569  0.025237  0.413793   \n",
              "3              0.666667            0.5    0.843137  0.170347  0.586207   \n",
              "4              0.666667            0.0    0.215686  0.933754  0.758621   \n",
              "...                 ...            ...         ...       ...       ...   \n",
              "199994         0.666667            0.0    0.431373  0.640379  0.034483   \n",
              "199995         0.666667            0.5    0.431373  0.167192  0.448276   \n",
              "199996         0.666667            0.0    0.725490  0.252366  0.172414   \n",
              "199997         0.666667            0.0    0.529412  0.362776  0.862069   \n",
              "199998         0.666667            0.0    0.294118  0.618297  0.068966   \n",
              "\n",
              "        CURRENT_JOB_YRS  CURRENT_HOUSE_YRS  Risk_Flag  \n",
              "0              0.214286               0.75        0.0  \n",
              "1              0.642857               0.75        0.0  \n",
              "2              0.285714               0.00        0.0  \n",
              "3              0.142857               0.50        1.0  \n",
              "4              0.214286               1.00        1.0  \n",
              "...                 ...                ...        ...  \n",
              "199994         0.285714               0.25        0.0  \n",
              "199995         0.500000               1.00        0.0  \n",
              "199996         1.000000               0.25        0.0  \n",
              "199997         0.142857               0.50        0.0  \n",
              "199998         0.642857               0.75        0.0  \n",
              "\n",
              "[199999 rows x 13 columns]"
            ]
          },
          "execution_count": 18,
          "metadata": {},
          "output_type": "execute_result"
        }
      ],
      "source": [
        "df_norm = (df - df.min()) / (df.max() - df.min())\n",
        "df_norm"
      ]
    },
    {
      "attachments": {},
      "cell_type": "markdown",
      "metadata": {
        "id": "sB5LMKVMafTR"
      },
      "source": [
        "j'ai normaliser mes données avec la méthode MinMax qui les met entre 0 et 1 pour permettre un meilleur apprentissage"
      ]
    },
    {
      "attachments": {},
      "cell_type": "markdown",
      "metadata": {
        "id": "plrQ4w8ScAB_"
      },
      "source": [
        "# Logistic regression "
      ]
    },
    {
      "attachments": {},
      "cell_type": "markdown",
      "metadata": {
        "id": "zVUM53GncJ_A"
      },
      "source": [
        "alors cette partie consiste a faire de la regression logistic pour classer les clients de la banque dans deux catégories ce qui présente un défaut de payement **(code=0)** et ce qui ne le sont pas **(code=1)**"
      ]
    },
    {
      "cell_type": "code",
      "execution_count": 19,
      "metadata": {
        "id": "10gC2IRCKBKl"
      },
      "outputs": [],
      "source": [
        "df_norm =df_norm .fillna(method='ffill')\n",
        "df_norm .isnull().sum()\n",
        "X = df_norm.drop([\"Risk_Flag\"], axis=1)\n",
        "X_=X.to_numpy()\n",
        "#X=df_norm['Message']\n",
        "y=df_norm['Risk_Flag']\n",
        "X_train, X_test, y_train, y_test = train_test_split(X, y, test_size = 0.18, random_state=40)\n",
        "LogReg = LogisticRegression()\n",
        "LogReg.fit(X_train, y_train)\n",
        "LogisticRegression(C=1.0, class_weight=None, dual=False, fit_intercept=True,\n",
        "          intercept_scaling=1, max_iter=100, multi_class='ovr', n_jobs=1,\n",
        "          penalty='l2', random_state=None, solver='liblinear', tol=0.0001,\n",
        "          verbose=0, warm_start=False)\n",
        "y_pred = LogReg.predict(X_test)"
      ]
    },
    {
      "attachments": {},
      "cell_type": "markdown",
      "metadata": {
        "id": "FT419lv5eauD"
      },
      "source": [
        "dans la partie ci-dessous j'ai divisé tout d'abord mes données en train qui est 82% et teste en 18% puis j'ai entrainner le modele"
      ]
    },
    {
      "attachments": {},
      "cell_type": "markdown",
      "metadata": {
        "id": "HY-bLnf9e7Ym"
      },
      "source": [
        "# Evaluation du modèle"
      ]
    },
    {
      "cell_type": "code",
      "execution_count": 20,
      "metadata": {
        "colab": {
          "base_uri": "https://localhost:8080/",
          "height": 447
        },
        "id": "kLHwb5HhX3pe",
        "outputId": "6d88047e-5a72-4e03-d759-a28ed3f3d446"
      },
      "outputs": [
        {
          "data": {
            "text/plain": [
              "<Axes: >"
            ]
          },
          "execution_count": 20,
          "metadata": {},
          "output_type": "execute_result"
        },
        {
          "data": {
            "image/png": "[encoded data removed]",
            "text/plain": [
              "<Figure size 640x480 with 2 Axes>"
            ]
          },
          "metadata": {},
          "output_type": "display_data"
        }
      ],
      "source": [
        "from sklearn.metrics import confusion_matrix\n",
        "confusion_matrix = confusion_matrix(y_test, y_pred)\n",
        "sns.heatmap(confusion_matrix, annot = True, fmt =\"d\")\n"
      ]
    },
    {
      "attachments": {},
      "cell_type": "markdown",
      "metadata": {
        "id": "XAiBxbJSfN5E"
      },
      "source": [
        "à l'aide de la matrice de confusion on a conclue que notre modèle à reussi à classier 32087 dans la partie des clients qui présente un défaut de payement et il n'a rien pu classer dans les partie des clients qui ne présente pas de défaut de payement. j'en clonclue que le modèle n'est pas du tout **satisfaisante**"
      ]
    },
    {
      "cell_type": "code",
      "execution_count": 21,
      "metadata": {
        "colab": {
          "base_uri": "https://localhost:8080/"
        },
        "id": "Ok5saA-AK0I3",
        "outputId": "a6b2f6a2-c9cf-42f3-e300-984a037bf7f7"
      },
      "outputs": [
        {
          "data": {
            "text/plain": [
              "0.32968840508037955"
            ]
          },
          "execution_count": 21,
          "metadata": {},
          "output_type": "execute_result"
        }
      ],
      "source": [
        "\n",
        "mse = mean_squared_error(y_test, y_pred)\n",
        "rmse = sqrt(mse)\n",
        "rmse\n",
        "\n"
      ]
    },
    {
      "attachments": {},
      "cell_type": "markdown",
      "metadata": {
        "id": "7t6k7944gPeJ"
      },
      "source": [
        "notre modèle présente 32% d'erreur c'est n'est pas du tout acceptable pour un modèle de machine learning"
      ]
    },
    {
      "cell_type": "code",
      "execution_count": 22,
      "metadata": {
        "colab": {
          "base_uri": "https://localhost:8080/"
        },
        "id": "5hXsiK30dIqO",
        "outputId": "988cf086-3071-4c2f-cb66-8ad961958d98"
      },
      "outputs": [
        {
          "name": "stdout",
          "output_type": "stream",
          "text": [
            "              precision    recall  f1-score   support\n",
            "\n",
            "         0.0       0.89      1.00      0.94     32087\n",
            "         1.0       0.00      0.00      0.00      3913\n",
            "\n",
            "    accuracy                           0.89     36000\n",
            "   macro avg       0.45      0.50      0.47     36000\n",
            "weighted avg       0.79      0.89      0.84     36000\n",
            "\n"
          ]
        },
        {
          "name": "stderr",
          "output_type": "stream",
          "text": [
            "c:\\Users\\rezga\\AppData\\Local\\Programs\\Python\\Python311\\Lib\\site-packages\\sklearn\\metrics\\_classification.py:1344: UndefinedMetricWarning: Precision and F-score are ill-defined and being set to 0.0 in labels with no predicted samples. Use `zero_division` parameter to control this behavior.\n",
            "  _warn_prf(average, modifier, msg_start, len(result))\n",
            "c:\\Users\\rezga\\AppData\\Local\\Programs\\Python\\Python311\\Lib\\site-packages\\sklearn\\metrics\\_classification.py:1344: UndefinedMetricWarning: Precision and F-score are ill-defined and being set to 0.0 in labels with no predicted samples. Use `zero_division` parameter to control this behavior.\n",
            "  _warn_prf(average, modifier, msg_start, len(result))\n",
            "c:\\Users\\rezga\\AppData\\Local\\Programs\\Python\\Python311\\Lib\\site-packages\\sklearn\\metrics\\_classification.py:1344: UndefinedMetricWarning: Precision and F-score are ill-defined and being set to 0.0 in labels with no predicted samples. Use `zero_division` parameter to control this behavior.\n",
            "  _warn_prf(average, modifier, msg_start, len(result))\n"
          ]
        }
      ],
      "source": [
        "print(classification_report(y_test, y_pred))"
      ]
    },
    {
      "attachments": {},
      "cell_type": "markdown",
      "metadata": {
        "id": "1l-EbDc5gpSD"
      },
      "source": [
        "cette vient confirmer les resultat données par nos précedente métrique, on peut observer qu'il y a une précision de 89% le classement des clients en défaut et 0% des clients non en défaut de payement."
      ]
    },
    {
      "attachments": {},
      "cell_type": "markdown",
      "metadata": {
        "id": "ZpBQGezehYw-"
      },
      "source": [
        "alors je passe que mon modèle à été mal entrainner du fait d'un déséquilibre de classe entre le nombre de client en défaut et les clients non en défaut. pour palier à se problème j'ai essayer de résoudre le problème de déséquilibre"
      ]
    },
    {
      "attachments": {},
      "cell_type": "markdown",
      "metadata": {
        "id": "Z1czcdvxiRrb"
      },
      "source": [
        "# Equilibrage des données"
      ]
    },
    {
      "cell_type": "code",
      "execution_count": 23,
      "metadata": {
        "id": "oCPQ8ySyLUy4"
      },
      "outputs": [],
      "source": [
        "\n",
        "rus = RandomUnderSampler()\n",
        "X_resampled, y_resampled = rus.fit_resample(X_train, y_train)\n",
        "ros = RandomOverSampler()\n",
        "X_resampled, y_resampled = ros.fit_resample(X_train, y_train)\n",
        "smote = SMOTE()\n",
        "X_resampled, y_resampled = smote.fit_resample(X_train, y_train)\n",
        "ros = RandomOverSampler()\n",
        "X_resampled, y_resampled = ros.fit_resample(X_train, y_train)\n",
        "\n",
        "\n"
      ]
    },
    {
      "attachments": {},
      "cell_type": "markdown",
      "metadata": {
        "id": "exnApmNRixMX"
      },
      "source": [
        "le code ci-dessous permet d'équilibré les données pour l'entrainnement"
      ]
    },
    {
      "cell_type": "code",
      "execution_count": 24,
      "metadata": {
        "id": "sQ4VIrTeif8C"
      },
      "outputs": [],
      "source": [
        "LogReg1 = LogisticRegression()\n",
        "LogReg1.fit(X_resampled, y_resampled)\n",
        "y_pred = LogReg1.predict(X_test)"
      ]
    },
    {
      "attachments": {},
      "cell_type": "markdown",
      "metadata": {
        "id": "G9HcYiZ4jGq-"
      },
      "source": [
        "# Evalution du modèle"
      ]
    },
    {
      "cell_type": "code",
      "execution_count": 25,
      "metadata": {
        "colab": {
          "base_uri": "https://localhost:8080/",
          "height": 447
        },
        "id": "4ZhpVexQjDyR",
        "outputId": "52f14bf6-198a-48c2-83dc-985b1ed3ecd6"
      },
      "outputs": [
        {
          "data": {
            "text/plain": [
              "<Axes: >"
            ]
          },
          "execution_count": 25,
          "metadata": {},
          "output_type": "execute_result"
        },
        {
          "data": {
            "image/png": "[encoded data removed]",
            "text/plain": [
              "<Figure size 640x480 with 2 Axes>"
            ]
          },
          "metadata": {},
          "output_type": "display_data"
        }
      ],
      "source": [
        "from sklearn.metrics import confusion_matrix\n",
        "confusion_matrix = confusion_matrix(y_test, y_pred)\n",
        "sns.heatmap(confusion_matrix, annot = True, fmt =\"d\")\n",
        "\n"
      ]
    },
    {
      "attachments": {},
      "cell_type": "markdown",
      "metadata": {
        "id": "H1ie8-gjjL2v"
      },
      "source": [
        "après l'équilibrage des classer nons observons que la matrice de confusion nous donne les résultats suivantes. notre modèle à pu classer cette fois 17358 dans la partie des clients en défaut dans la bonne classe et 14729 dans la mausaise classe et une classification 2295 des clients non en défaut dans la bonne classe et 1618 dans la mauvaise classe"
      ]
    },
    {
      "cell_type": "code",
      "execution_count": 26,
      "metadata": {
        "colab": {
          "base_uri": "https://localhost:8080/"
        },
        "id": "MDpWvBRrXa2W",
        "outputId": "432952ca-9463-470c-d2c6-3616587da6cc"
      },
      "outputs": [
        {
          "name": "stdout",
          "output_type": "stream",
          "text": [
            "              precision    recall  f1-score   support\n",
            "\n",
            "         0.0       0.91      0.54      0.68     32087\n",
            "         1.0       0.13      0.59      0.22      3913\n",
            "\n",
            "    accuracy                           0.55     36000\n",
            "   macro avg       0.52      0.56      0.45     36000\n",
            "weighted avg       0.83      0.55      0.63     36000\n",
            "\n"
          ]
        }
      ],
      "source": [
        "print(classification_report(y_test, y_pred))"
      ]
    },
    {
      "attachments": {},
      "cell_type": "markdown",
      "metadata": {
        "id": "9K43RyTIkxpF"
      },
      "source": [
        "alors nous voyons que notre modèle à changer de précision de manière positive 91% pour la classification des clients en défaut et 14% de classification pour des les clients non en défaut."
      ]
    },
    {
      "attachments": {},
      "cell_type": "markdown",
      "metadata": {
        "id": "efRvnpMElhc0"
      },
      "source": [
        "**En conclusion notre modèle est partiellement satisfaisant donc c'est pas un bon modèle**"
      ]
    },
    {
      "attachments": {},
      "cell_type": "markdown",
      "metadata": {
        "id": "3ty5yCL-wpQ0"
      },
      "source": [
        "# classification KNN"
      ]
    },
    {
      "attachments": {},
      "cell_type": "markdown",
      "metadata": {
        "id": "AN7fMogiw1I_"
      },
      "source": [
        "**alors j'ai décidé d'utilisé la classification KNN qui est basée sur le calcul de distance et de classifier selon le ou les voisin les plus proche bien que cette méthode est plus adéquat pour une taget qui a plus de deux classes différents je vais l'utilisé dans ce cas en considérant que la classification l ogisticn'est qu'un cas praticlier**"
      ]
    },
    {
      "cell_type": "code",
      "execution_count": 27,
      "metadata": {
        "id": "Jq2QmvEqMIWI"
      },
      "outputs": [
        {
          "name": "stdout",
          "output_type": "stream",
          "text": [
            "Accuracy: 54.56388888888889 %\n"
          ]
        },
        {
          "data": {
            "text/plain": [
              "[<matplotlib.lines.Line2D at 0x12b900d60d0>]"
            ]
          },
          "execution_count": 27,
          "metadata": {},
          "output_type": "execute_result"
        },
        {
          "data": {
            "image/png": "[encoded data removed]",
            "text/plain": [
              "<Figure size 640x480 with 1 Axes>"
            ]
          },
          "metadata": {},
          "output_type": "display_data"
        }
      ],
      "source": [
        "from sklearn.neighbors import KNeighborsClassifier\n",
        "test_scores = []\n",
        "train_scores = []\n",
        "\n",
        "for i in range(1,8):\n",
        "\n",
        "    knn = KNeighborsClassifier(i)\n",
        "    knn.fit(X_train,y_train)\n",
        "    \n",
        "    train_scores.append(knn.score(X_train,y_train))\n",
        "    test_scores.append(knn.score(X_test,y_test))\n",
        "    \n",
        "print(\"Accuracy:\", metrics.accuracy_score(y_test, y_pred)* 100, \"%\")\n",
        "\n",
        "plt.plot(test_scores, label='test scores')\n",
        "plt.plot(train_scores, label='train scores')"
      ]
    },
    {
      "cell_type": "code",
      "execution_count": 28,
      "metadata": {},
      "outputs": [
        {
          "name": "stdout",
          "output_type": "stream",
          "text": [
            "Max test score 91.74444444444444 % and k = [1]\n"
          ]
        }
      ],
      "source": [
        "max_test_score = max(test_scores)\n",
        "test_scores_ind = [i for i, v in enumerate(test_scores) if v == max_test_score]\n",
        "print('Max test score {} % and k = {}'.format(max_test_score*100,list(map(lambda x: x+1, test_scores_ind))))"
      ]
    },
    {
      "cell_type": "code",
      "execution_count": 29,
      "metadata": {
        "id": "R_SEXPytG_HF"
      },
      "outputs": [],
      "source": [
        "# Instancier le classificateur KNN\n",
        "from sklearn.neighbors import KNeighborsClassifier\n",
        "k = 3\n",
        "knn = KNeighborsClassifier(n_neighbors=k)\n",
        "\n",
        "# Entraîner le classificateur sur les données d'entraînement\n",
        "knn.fit(X_train, y_train)\n",
        "\n",
        "# Prédire les étiquettes pour les données de test\n",
        "y_pred = knn.predict(X_test)\n",
        "\n",
        "# Afficher la matrice de confusion"
      ]
    },
    {
      "attachments": {},
      "cell_type": "markdown",
      "metadata": {
        "id": "kZmZi99n0wzx"
      },
      "source": [
        "# Evalution "
      ]
    },
    {
      "cell_type": "code",
      "execution_count": 30,
      "metadata": {
        "colab": {
          "base_uri": "https://localhost:8080/",
          "height": 465
        },
        "id": "sMWa5IYKz1Mz",
        "outputId": "e4458a87-114d-4ba7-c0f8-e627f65e3500"
      },
      "outputs": [
        {
          "name": "stdout",
          "output_type": "stream",
          "text": [
            "[[30556  1531]\n",
            " [ 1575  2338]]\n"
          ]
        },
        {
          "data": {
            "image/png": "[encoded data removed]",
            "text/plain": [
              "<Figure size 640x480 with 2 Axes>"
            ]
          },
          "metadata": {},
          "output_type": "display_data"
        }
      ],
      "source": [
        "from sklearn.metrics import confusion_matrix\n",
        "cm = confusion_matrix(y_test, y_pred)\n",
        "sns.heatmap(cm , annot = True, fmt =\"d\")\n",
        "print(cm)"
      ]
    },
    {
      "attachments": {},
      "cell_type": "markdown",
      "metadata": {
        "id": "Jjoz2I8602nM"
      },
      "source": [
        "pour le KNN nous voyons que le modèle à pu classer 30488 clients en défaut dans la bonne classe et 1599 dans une mauvaise classe pour les clients non en défaut il 2332 qui on était qui on étaient bien classer et 1581 qui on étaient mal classer"
      ]
    },
    {
      "cell_type": "code",
      "execution_count": 31,
      "metadata": {
        "colab": {
          "base_uri": "https://localhost:8080/"
        },
        "id": "1azFrA7H0g0d",
        "outputId": "19b38081-5c07-45bb-ff5b-7f21e3f59ffc"
      },
      "outputs": [
        {
          "name": "stdout",
          "output_type": "stream",
          "text": [
            "Rapport de classification :\n",
            "              precision    recall  f1-score   support\n",
            "\n",
            "         0.0       0.95      0.95      0.95     32087\n",
            "         1.0       0.60      0.60      0.60      3913\n",
            "\n",
            "    accuracy                           0.91     36000\n",
            "   macro avg       0.78      0.77      0.78     36000\n",
            "weighted avg       0.91      0.91      0.91     36000\n",
            "\n"
          ]
        }
      ],
      "source": [
        "class_report = classification_report(y_test, y_pred)\n",
        "\n",
        "# Afficher le rapport de classification\n",
        "print(\"Rapport de classification :\")\n",
        "print(class_report)"
      ]
    },
    {
      "attachments": {},
      "cell_type": "markdown",
      "metadata": {
        "id": "Ezfbnf8TyAY6"
      },
      "source": [
        "après l'utilisation de KNN nous observons que notre modèle est beaucoup plus satisfaisante avec 95% de précision pour la classification des clients en défaut et 62% de précision pour les clients non en défaut."
      ]
    },
    {
      "attachments": {},
      "cell_type": "markdown",
      "metadata": {
        "id": "7zx-PBqByYiM"
      },
      "source": [
        "# conclusion\n",
        "Après avoir analysé  les deux méthodes, nous pouvons à présent les comparer. \n",
        "Les résultats ont montré que l’algorithme du K-NN a une meilleure capacité prédictive que le modèle de régression logistique car elle a un meilleur taux de bon classement et de précision à celle de la régression logistique, ce qui permet de conclure que la méthode du K-plus proches voisins est plus avantageuse que celle de la régression logistique dans ce cas. "
      ]
    }
  ],
  "metadata": {
    "colab": {
      "provenance": []
    },
    "kernelspec": {
      "display_name": "Python 3",
      "name": "python3"
    },
    "language_info": {
      "codemirror_mode": {
        "name": "ipython",
        "version": 3
      },
      "file_extension": ".py",
      "mimetype": "text/x-python",
      "name": "python",
      "nbconvert_exporter": "python",
      "pygments_lexer": "ipython3",
      "version": "3.11.2"
    }
  },
  "nbformat": 4,
  "nbformat_minor": 0
}
